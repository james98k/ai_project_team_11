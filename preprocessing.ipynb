{
 "cells": [
  {
   "cell_type": "markdown",
   "source": [
    "**<h1>데이터 전처리</h1>**\n",
    "<h3> xlsx파일로 주어진 데이터의 필요한 부분만을 꺼내서 사용할 수 있는 csv파일로 전환한다 </h3>"
   ],
   "metadata": {}
  },
  {
   "cell_type": "markdown",
   "source": [
    "**<h2>1. class.csv 파일 만들기</h2>**\n",
    "* 목적 : 각 학생이 어떠한 과목을 수강하였는지를 숫자로 표현한 가공 데이터 만들기\n",
    "* input : 학기, 학생, 수업 정보\n",
    "* output : 한줄당 각 학생이 들은 수업의 학부번호"
   ],
   "metadata": {}
  },
  {
   "cell_type": "markdown",
   "source": [
    "1) 과목코드를 학부코드로 바꿔주는 함수"
   ],
   "metadata": {}
  },
  {
   "cell_type": "code",
   "execution_count": 5,
   "source": [
    "def toCode(code) :\n",
    "    if (('ISE' in code) or(code=='국제어문학부')):\n",
    "        return 1\n",
    "    elif (('LAW' in code) or('UIL' in code) or(code=='법학부')):\n",
    "        return 2\n",
    "    elif (('CSW' in code) or(code=='상담심리사회복지학부')):\n",
    "        return 3\n",
    "    elif (('CCC' in code) or(code=='커뮤니케이션학부')):\n",
    "        return 4\n",
    "    elif (('MEC' in code) or('GMP' in code) or(code=='경영경제학부')):\n",
    "        return 5\n",
    "    elif (('CUE' in code) or(code=='공간환경시스템공학부')):\n",
    "        return 6\n",
    "    elif (('BFT' in code) or(code=='생명과학부')):\n",
    "        return 7\n",
    "    elif (('IID' in code)  or(code=='콘텐츠융합디자인학부')):\n",
    "        return 8\n",
    "    elif (('ECE' in code) or('ITP' in code) or(code=='전산전자공학부')):\n",
    "        return 9\n",
    "    elif (('HMM' in code) or(code=='기계제어공학부')):\n",
    "        return 10\n",
    "    elif (('SIT' in code) or(code=='ICT창업학부')):\n",
    "        return 11\n",
    "    elif (('CCE' in code) or(code=='창의융합교육원(인문사회)')):\n",
    "        return 12\n",
    "    else:\n",
    "        return 0 #global readership"
   ],
   "outputs": [],
   "metadata": {}
  },
  {
   "cell_type": "markdown",
   "source": [
    "2) 필요한 열만 뽑아 dataframe으로 만들기"
   ],
   "metadata": {}
  },
  {
   "cell_type": "code",
   "execution_count": 7,
   "source": [
    "import pandas as pd\n",
    "from pandas import DataFrame\n",
    "import csv\n",
    "\n",
    "# df_test.xlsx 파일을 학번, 과목코드의 dataframe으로 변경\n",
    "df = pd.read_excel(\"rawdata.xlsx\", engine = \"openpyxl\")\n",
    "df_class = pd.DataFrame(df, columns=['학번', '과목코드'])"
   ],
   "outputs": [],
   "metadata": {}
  },
  {
   "cell_type": "markdown",
   "source": [
    "3) class.csv파일 쓰기"
   ],
   "metadata": {}
  },
  {
   "cell_type": "code",
   "execution_count": 11,
   "source": [
    "# class.csv에 학번 같으면 옆으로, 아니면 밑으로 추가\n",
    "fc = open('class.csv', 'w', newline='')\n",
    "wrc = csv.writer(fc)\n",
    "\n",
    "codes = []\n",
    "prestudent=15604\n",
    "\n",
    "for i in range(0, len(df_class)):\n",
    "    if(df_class.loc[i, '학번'] != prestudent):\n",
    "        prestudent = df_class.loc[i, '학번']\n",
    "        wrc.writerow(codes)\n",
    "        codes = []\n",
    "    codes.append(toCode(df_class.loc[i, '과목코드']))\n",
    "\n",
    "fc.close()"
   ],
   "outputs": [],
   "metadata": {}
  },
  {
   "cell_type": "markdown",
   "source": [
    "**<h2>2. major.csv 파일 만들기</h2>**\n",
    "* 목적 : 각 학생이 결국 어떤 학부 선택했는지를 숫자로 표현한 가공 데이터 만들기\n",
    "* input : 학기, 학생, 수업 정보\n",
    "* output : class.csv와 같은 순서로 각 학생의 학부를 코드로 나타냄"
   ],
   "metadata": {}
  },
  {
   "cell_type": "markdown",
   "source": [
    "1) 필요한 열만 뽑아 dataframe으로 만들기"
   ],
   "metadata": {}
  },
  {
   "cell_type": "code",
   "execution_count": 12,
   "source": [
    "# df_test.xlsx 파일을 학번, 학부의 dataframe으로 변경\n",
    "df_major = pd.DataFrame(df, columns=['학번', '현학부'])"
   ],
   "outputs": [],
   "metadata": {}
  },
  {
   "cell_type": "markdown",
   "source": [
    "2) major.csv에 각 학생별 학부 코드로 쓰기"
   ],
   "metadata": {}
  },
  {
   "cell_type": "code",
   "execution_count": 21,
   "source": [
    "# major.csv에 학부 코드로 쓰기\n",
    "fm = open('major.csv', 'w', newline='')\n",
    "wrm = csv.writer(fm)\n",
    "\n",
    "prestudent=15604\n",
    "\n",
    "for i in range(0, len(df_class)):\n",
    "    if(df_class.loc[i, '학번'] != prestudent):\n",
    "        prestudent = df_major.loc[i, '학번']\n",
    "        majorresult = []\n",
    "        majorresult.append(toCode(df_major.loc[i, '현학부']))\n",
    "        wrm.writerow(majorresult)\n",
    "\n",
    "fm.close()"
   ],
   "outputs": [],
   "metadata": {}
  }
 ],
 "metadata": {
  "orig_nbformat": 4,
  "language_info": {
   "name": "python",
   "version": "3.10.1",
   "mimetype": "text/x-python",
   "codemirror_mode": {
    "name": "ipython",
    "version": 3
   },
   "pygments_lexer": "ipython3",
   "nbconvert_exporter": "python",
   "file_extension": ".py"
  },
  "kernelspec": {
   "name": "python3",
   "display_name": "Python 3.10.1 64-bit"
  },
  "interpreter": {
   "hash": "aee8b7b246df8f9039afb4144a1f6fd8d2ca17a180786b69acc140d282b71a49"
  }
 },
 "nbformat": 4,
 "nbformat_minor": 2
}