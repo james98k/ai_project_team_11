{
 "cells": [
  {
   "cell_type": "code",
   "execution_count": 1,
   "id": "f261563a-e350-4ae3-8bf2-b0c578d977e1",
   "metadata": {},
   "outputs": [],
   "source": [
    "import numpy as np\n",
    "import pandas as pd\n",
    "from pandas import DataFrame as df\n",
    "\n",
    "\n",
    "import numpy as np # linear algebra\n",
    "import pandas as pd # data processing, CSV file I/O (e.g. pd.read_csv)\n",
    "import matplotlib.pyplot as plt # data visualization\n",
    "import seaborn as sns # statistical data visualization\n",
    "from sklearn.model_selection import train_test_split\n",
    "from sklearn.ensemble import RandomForestClassifier\n",
    "%matplotlib inline"
   ]
  },
  {
   "cell_type": "code",
   "execution_count": 2,
   "id": "d2debd47-c964-4800-b47d-f9f1e2df561a",
   "metadata": {},
   "outputs": [],
   "source": [
    "# df = pd.read_csv('student_data.csv', header = 0)\n",
    "# df_class = pd.read_csv('class1.csv', header = None)\n",
    "# df_major = pd.read_csv('major1.csv', header = None)"
   ]
  },
  {
   "cell_type": "code",
   "execution_count": 2,
   "id": "808ad039-83ad-4261-8079-dd6b63b962dd",
   "metadata": {},
   "outputs": [],
   "source": [
    "df_class = pd.read_csv('hgu_class_2021.csv', header = None)\n",
    "df_major = pd.read_csv('hgu_major_2021.csv', header = None)"
   ]
  },
  {
   "cell_type": "code",
   "execution_count": 3,
   "id": "3b02595b-f94b-4193-b9b8-01c7f34c7505",
   "metadata": {},
   "outputs": [
    {
     "data": {
      "text/plain": [
       "<bound method NDFrame.head of       0   1   2   3   4   5   6   7   8   9   ...  12  13  14  15  16  17  18  \\\n",
       "0     13  13  13  13  13  13  13  13   4  13  ...  13  13   1   1   2   0   0   \n",
       "1     13  13  13  13  13  13  13  13  13  13  ...  13  13  13  13   0   0   0   \n",
       "2     13  13  13  13  13  13  13   1  13  13  ...  13  13  13  13   2   0   0   \n",
       "3     13  13  13  13  13  13   1   5  13  13  ...  11  13  13  13  13   0   0   \n",
       "4     13  13  13  13  13  13  13   2  13  12  ...  13  13  13  13   5   5   0   \n",
       "...   ..  ..  ..  ..  ..  ..  ..  ..  ..  ..  ...  ..  ..  ..  ..  ..  ..  ..   \n",
       "1684  13  13  13  13  13  13   2   2  13   9  ...  13  13  13  13   2   5   0   \n",
       "1685  13  13  13  13  13  13  13  13  13  13  ...  13  13  13  13  13  13   0   \n",
       "1686  13  13  13   9  13  13  13  13   9  13  ...  13  13  13   5  13   0   0   \n",
       "1687  13  13  13  13  13  13  13  13  13  13  ...  13  13  13  13  13   9  13   \n",
       "1688  13  13  13  13  13  13  13   2  12   3  ...  13  13  13   5  11   0   0   \n",
       "\n",
       "      19  20  21  \n",
       "0      0   0   0  \n",
       "1      0   0   0  \n",
       "2      0   0   0  \n",
       "3      0   0   0  \n",
       "4      0   0   0  \n",
       "...   ..  ..  ..  \n",
       "1684   0   0   0  \n",
       "1685   0   0   0  \n",
       "1686   0   0   0  \n",
       "1687   0   0   0  \n",
       "1688   0   0   0  \n",
       "\n",
       "[1689 rows x 22 columns]>"
      ]
     },
     "execution_count": 3,
     "metadata": {},
     "output_type": "execute_result"
    }
   ],
   "source": [
    "df_class.head"
   ]
  },
  {
   "cell_type": "code",
   "execution_count": 4,
   "id": "5cad0934-1c63-40b9-871a-5474fb4e2c44",
   "metadata": {},
   "outputs": [
    {
     "data": {
      "text/plain": [
       "<bound method NDFrame.head of        0\n",
       "0      7\n",
       "1      2\n",
       "2     11\n",
       "3      4\n",
       "4      6\n",
       "...   ..\n",
       "1684   7\n",
       "1685   9\n",
       "1686   6\n",
       "1687  11\n",
       "1688   9\n",
       "\n",
       "[1689 rows x 1 columns]>"
      ]
     },
     "execution_count": 4,
     "metadata": {},
     "output_type": "execute_result"
    }
   ],
   "source": [
    "df_major.head"
   ]
  },
  {
   "cell_type": "code",
   "execution_count": 5,
   "id": "daaa16cc-f745-4df1-b909-385a4b3de08d",
   "metadata": {},
   "outputs": [],
   "source": [
    "x = df_class\n",
    "y = df_major"
   ]
  },
  {
   "cell_type": "code",
   "execution_count": 6,
   "id": "f33cc139-11e3-4d44-b2c0-d46d072ab610",
   "metadata": {},
   "outputs": [],
   "source": [
    "X_train, X_test, Y_train, Y_test = train_test_split(x, y, test_size=0.3)"
   ]
  },
  {
   "cell_type": "code",
   "execution_count": 7,
   "id": "02964ea2-5cbf-451d-90d4-5f49498237bd",
   "metadata": {},
   "outputs": [
    {
     "name": "stdout",
     "output_type": "stream",
     "text": [
      "      0\n",
      "686   9\n",
      "45    4\n",
      "304   4\n",
      "286   4\n",
      "759   5\n",
      "...  ..\n",
      "123   6\n",
      "608   3\n",
      "1053  9\n",
      "850   4\n",
      "955   3\n",
      "\n",
      "[507 rows x 1 columns]\n"
     ]
    }
   ],
   "source": [
    "print(Y_test)"
   ]
  },
  {
   "cell_type": "code",
   "execution_count": 8,
   "id": "1207566a-89a7-4ec9-b58f-6e1c8f61a739",
   "metadata": {},
   "outputs": [],
   "source": [
    "clf = RandomForestClassifier(n_estimators=10)\n"
   ]
  },
  {
   "cell_type": "code",
   "execution_count": 10,
   "id": "50bdaa97-7a99-418c-9597-2bd88bb6441f",
   "metadata": {},
   "outputs": [],
   "source": [
    "rfc = RandomForestClassifier(n_estimators=10, random_state = 10)\n"
   ]
  },
  {
   "cell_type": "code",
   "execution_count": 11,
   "id": "477e08f5-460a-4918-9e89-8b3d0b36754c",
   "metadata": {},
   "outputs": [
    {
     "data": {
      "text/plain": [
       "RandomForestClassifier(n_estimators=10, random_state=10)"
      ]
     },
     "execution_count": 11,
     "metadata": {},
     "output_type": "execute_result"
    }
   ],
   "source": [
    "rfc.fit(X_train, Y_train.values.ravel())"
   ]
  },
  {
   "cell_type": "code",
   "execution_count": 12,
   "id": "d189c2ea-7289-4673-8697-cd4d41aa8835",
   "metadata": {},
   "outputs": [],
   "source": [
    "prediction = rfc.predict(X_test)"
   ]
  },
  {
   "cell_type": "code",
   "execution_count": 13,
   "id": "c59bb324-d617-4c68-9c67-a87b73995732",
   "metadata": {},
   "outputs": [
    {
     "data": {
      "text/plain": [
       "0.11834319526627218"
      ]
     },
     "execution_count": 13,
     "metadata": {},
     "output_type": "execute_result"
    }
   ],
   "source": [
    "rfc.score(X_test, Y_test)"
   ]
  },
  {
   "cell_type": "code",
   "execution_count": 15,
   "id": "4d5adc2a-c598-4979-8a19-b17ce593fcf2",
   "metadata": {},
   "outputs": [],
   "source": [
    "# clf.fit(X_train, Y_train) # X_train과 Y_train을 입력해 모듈을 학습 시킨다.\n",
    "# prediction_1 = rfc.predict(X_test)"
   ]
  },
  {
   "cell_type": "code",
   "execution_count": null,
   "id": "5896ea44-6fef-4228-b1bd-7e39a3529d42",
   "metadata": {},
   "outputs": [],
   "source": []
  },
  {
   "cell_type": "code",
   "execution_count": null,
   "id": "064af8c1-2cbf-4821-a4c9-c08b287b04ae",
   "metadata": {},
   "outputs": [],
   "source": []
  },
  {
   "cell_type": "code",
   "execution_count": null,
   "id": "8081e76f-2277-4e4d-aba5-b02f035b098f",
   "metadata": {},
   "outputs": [],
   "source": []
  },
  {
   "cell_type": "code",
   "execution_count": null,
   "id": "15c4c7f3-ac95-41ff-8d57-53e0d380c1f6",
   "metadata": {},
   "outputs": [],
   "source": []
  },
  {
   "cell_type": "code",
   "execution_count": null,
   "id": "bc582bcd-6125-4d56-9a86-5a643540e86f",
   "metadata": {},
   "outputs": [],
   "source": []
  },
  {
   "cell_type": "code",
   "execution_count": null,
   "id": "196ffe9b-26ea-43e0-90bc-b812c3bceb92",
   "metadata": {},
   "outputs": [],
   "source": [
    "grps = df.groupby('stu_id').apply(lambda x: list(np.reapeat(x['class_name'].vaules))\n",
    "                                \n"
   ]
  },
  {
   "cell_type": "code",
   "execution_count": null,
   "id": "1b084c67-21df-47ae-ab73-ee10f90c9c44",
   "metadata": {},
   "outputs": [],
   "source": [
    "X_train, X_test, y_train, y_test = train_test_split(cancer.data, cancer.target, test_size=0.2, random_state=42 )"
   ]
  },
  {
   "cell_type": "code",
   "execution_count": null,
   "id": "a016045e-0ffc-4c1d-94ca-85030eb04465",
   "metadata": {},
   "outputs": [],
   "source": [
    "from sklearn.ensemble import RandomForestClassifier\n",
    "from sklearn import datasets"
   ]
  },
  {
   "cell_type": "code",
   "execution_count": null,
   "id": "bd4f4033-e5e6-4596-aa68-4b543077ce30",
   "metadata": {},
   "outputs": [],
   "source": [
    "iris = datasets.load_iris()\n",
    "features = iris.data\n",
    "target = iris.target"
   ]
  },
  {
   "cell_type": "code",
   "execution_count": null,
   "id": "a4aa4a6d-6be1-4d5c-8823-1ad8af756fee",
   "metadata": {},
   "outputs": [],
   "source": [
    "randomforest = RandomForestClassifier(random_state =0 , n_jobs = -1)"
   ]
  },
  {
   "cell_type": "code",
   "execution_count": null,
   "id": "0faaea1a-5f93-4733-bc40-0f760fce282d",
   "metadata": {},
   "outputs": [],
   "source": [
    "model = randomforest.fit(features, target)"
   ]
  },
  {
   "cell_type": "code",
   "execution_count": null,
   "id": "a36e7856-baa5-40cd-8e0c-3e987c6ab99d",
   "metadata": {},
   "outputs": [],
   "source": []
  },
  {
   "cell_type": "code",
   "execution_count": null,
   "id": "f9f6b020-6b8a-4e8a-a1ee-479c82b6849d",
   "metadata": {},
   "outputs": [],
   "source": []
  }
 ],
 "metadata": {
  "kernelspec": {
   "display_name": "Python 3 (ipykernel)",
   "language": "python",
   "name": "python3"
  },
  "language_info": {
   "codemirror_mode": {
    "name": "ipython",
    "version": 3
   },
   "file_extension": ".py",
   "mimetype": "text/x-python",
   "name": "python",
   "nbconvert_exporter": "python",
   "pygments_lexer": "ipython3",
   "version": "3.9.7"
  }
 },
 "nbformat": 4,
 "nbformat_minor": 5
}
