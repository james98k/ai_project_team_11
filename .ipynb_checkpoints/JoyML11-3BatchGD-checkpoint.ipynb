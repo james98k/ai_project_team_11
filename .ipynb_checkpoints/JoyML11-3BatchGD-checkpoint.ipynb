{
 "cells": [
  {
   "cell_type": "markdown",
   "metadata": {
    "collapsed": true
   },
   "source": [
    "# 파이썬으로 배우는 기계학습\n",
    "# Machine Learning with Python"
   ]
  },
  {
   "cell_type": "markdown",
   "metadata": {},
   "source": [
    "# 제 11-3 강: Gradient Descent 1 - Batch GD\n",
    "\n",
    "\n",
    "## 학습목표 \n",
    "- 배치 경사하강법(Batch GD)으로 학습의 정확도를 이해한다.\n",
    "- 확률적 경사하강법(Stochastic GD)으로 학습의 효율성을 이해한다.\n",
    "\n",
    "## 학습 내용\n",
    "- MNIST 자료셋에 대한 다양한 경사하강법 비교하기\n",
    "- 배치 경사하강법(Batch GD)의 정확도 이해하기 \n",
    "- 확률적 경사하강법(Stochastic GD)으로 학습하기"
   ]
  },
  {
   "cell_type": "code",
   "execution_count": 10,
   "metadata": {},
   "outputs": [],
   "source": [
    "import imp\n",
    "import joy\n",
    "imp.reload(joy)\n",
    "import numpy as np"
   ]
  },
  {
   "cell_type": "markdown",
   "metadata": {},
   "source": [
    "## 1.1 MNIST 배치 경사하강법 신경망의 구현\n",
    "\n",
    "우리는 앞 강의에서 MNIST 데이터셋의 분류 문제를 다룰 수 있는 신경망에 대해 공부했습니다. 또한, 신경망이 학습하는 가장 기본적인 (배치) 경사하강법에 대해 배웠습니다. 이번 장에서는 경사 하강법에 대해 복습하고, MNIST 데이터셋을 학습하는 실습을 하도록 하겠습니다.\n",
    "\n",
    "먼저 경사 하강법이란 현재 위치에서 어떤 함수의 극소점을 찾는 방법을 말합니다. 그렇다면 반대로 극대점을 찾는 방법은 경사 상승법이라고 합니다. 우리가 신경망을 학습 시킬 때에는 신경망의 예측 값과 레이블 간의 오차율을 작게 만드는 것이 목표이기 때문에 오차율의 극소점을 발견하는 경사 하강법을 사용합니다.\n",
    "\n",
    "다음과 같이 $x^2 + y^2$의 함수 그래프가 있다고 할 때, 그래프가 가장 움푹 파인 곳이 극소점이라는 것을 한 눈에 찾을 수 있을 것입니다.\n",
    "즉, 기울기가 0인 곳을 극소점/극대점 이라고 부르며 이는 그래프의 미분 값이 0인 곳을 말합니다."
   ]
  },
  {
   "cell_type": "markdown",
   "metadata": {},
   "source": [
    "<img src=\"https://github.com/idebtor/KMOOC-ML/blob/master/ipynb/images/GradientDescentMesh.png?raw=true\" width=\"400\">"
   ]
  },
  {
   "cell_type": "markdown",
   "metadata": {},
   "source": [
    "하지만, 2차원 함수보다 차원이 높은 함수일 수록 발견하기 어려울 것 입니다. 신경망에서는 복잡한 함수의 극소점을 어떻게 찾아갈까요?\n",
    "\n",
    "아래 그림과 같이 여러분이 등산을 한다고 생각해 봅시다. 아니면, 숲이 우거져 앞이 보이지 않는 밀림에 있다고 상상해 봅시다. 여러분은 지도도 나침반도 없는 상황에서 정상에 도달하여야 합니다. 현재 있는 위치도 어디인지 모르고 숲이 우거져 한치 앞도 보이지 않습니다."
   ]
  },
  {
   "cell_type": "markdown",
   "metadata": {},
   "source": [
    "<img src=\"https://github.com/idebtor/KMOOC-ML/blob/master/ipynb/images/GradientDescentEx.png?raw=true\" width=\"400\">"
   ]
  },
  {
   "cell_type": "markdown",
   "metadata": {},
   "source": [
    "가장 직관적인 방법으로는 현재 본인이 위치한 곳 보다 조금 더 높아 보이는 곳으로 가는 방법일 것입니다. 그리고 새로운 위치에서 다시 한번 지금 내가 갈 수 있는 가장 높아 보이는 곳으로 한 발 나아갑니다. 이런 작업을 반복하다 보면 결국 정상에 도달해 있지 않을까요?\n",
    "\n",
    "경사 하강법은 정상에 오르는 방법과 유사하게 오차율을 최소화 하는 극소점을 찾아 내려갑니다. 아래 식을 보며 조금 더 얘기해 봅시다."
   ]
  },
  {
   "cell_type": "markdown",
   "metadata": {},
   "source": [
    "\\begin{align}\n",
    "  \\Delta w &= -\\eta \\Delta{J(w)} \\\\\n",
    "               &=-\\eta \\frac{\\partial{J(w)}}{\\partial{w_j}} \n",
    "\\end{align}"
   ]
  },
  {
   "cell_type": "markdown",
   "metadata": {},
   "source": [
    "우선 $\\eta$는 학습율을 의미하며, 위의 예제에서는 여러분들의 보폭을 말합니다. 한 발 내딛을 때 얼마나 큰 보폭으로 산을 올라갈지를 결정합니다. <br>또한, 우리가 원하는 것은 오차율의 극대점을 찾는 것의 반대이기 때문에 $\\eta\\ 앞에 -$기호를 사용하여 극소점을 거꾸로 찾아갑니다.<br>산의 정상에서 내려오는 일이라고 생각하면 됩니다. 뒤에 따라오는 미분 값은 신경망의 가중치에 따른 오차 값의 변화(기울기)가 0이 되는 점을 찾는 방법입니다."
   ]
  },
  {
   "cell_type": "markdown",
   "metadata": {},
   "source": [
    "이제 기본적인 경사 하강법에 대한 복습을 마쳤으니 MNIST 데이터셋을 직접 학습시켜보도록 하겠습니다. 아래는 앞에서 배운 비용함수 입니다."
   ]
  },
  {
   "cell_type": "markdown",
   "metadata": {},
   "source": [
    "\\begin{align}\n",
    "J(w) = \\frac{1}{2} \\sum_{i} \\big(y^{(i)} - h(z^{(i)})\\big)^2 \\tag1\n",
    "\\end{align}"
   ]
  },
  {
   "cell_type": "markdown",
   "metadata": {},
   "source": [
    "하지만, 우리는 6만개의 MNIST 데이터 전체를 이용하여 학습하기 때문에 식(2) 처럼 데이터의 개수를 비용함수에 나누어 줘야 합니다.\n",
    "여기서는 데이터의 개수를 $m$으로 표기합니다."
   ]
  },
  {
   "cell_type": "markdown",
   "metadata": {},
   "source": [
    "\\begin{align}\n",
    "J(w) = \\frac{1}{2m} \\sum_{i} \\big(y^{(i)} - h(z^{(i)})\\big)^2  \\tag{2} \n",
    "\\end{align}\n",
    "\n",
    "\\begin{align}\n",
    "\\Delta w &= -\\eta \\Delta{J(w)} \\\\\n",
    "               &=-\\eta \\frac{\\partial{J(w)}}{\\partial{w_j}} \\tag{3}\n",
    "\\end{align}"
   ]
  },
  {
   "cell_type": "markdown",
   "metadata": {},
   "source": [
    "최종적으로 신경망의 가중치는 6만개의 모든 데이터를 보고 그 중 가장 오차율을 최소화 하는 방향으로 $\\eta$만큼 한 걸음 내딛어 업데이트 합니다."
   ]
  },
  {
   "cell_type": "markdown",
   "metadata": {},
   "source": [
    "## 1.1 MNIST 배치 경사하강법 신경망의 구현\n",
    "\n",
    "우리는 앞 강의에서 MNIST 데이터셋의 분류 문제를 다룰 수 있는 신경망에 대해 공부습니다.  가장 기본적인 (배치) 경사하강법에 대해 알아 보겠습니다. "
   ]
  },
  {
   "cell_type": "code",
   "execution_count": 6,
   "metadata": {},
   "outputs": [],
   "source": [
    "#%%writefile code/MnistBGD.py\n",
    "#%load code/MnistBGD.py\n",
    "\n",
    "class MnistBGD_LS(object):\n",
    "    \"\"\" Batch Gradient Descent with Learning Schedule\n",
    "    \"\"\"\n",
    "    def __init__(self, n_x, n_h1, n_y, eta = 0.1, epochs = 100, random_seed=1):\n",
    "        \"\"\" \n",
    "        \"\"\"\n",
    "        self.n_x = n_x\n",
    "        self.n_h = n_h\n",
    "        self.n_y = n_y\n",
    "        self.eta = eta\n",
    "        self.epochs = epochs\n",
    "        np.random.seed(random_seed)\n",
    "        self.W1 = 2*np.random.random((self.n_h, self.n_x)) - 1  # between -1 and 1\n",
    "        self.W2 = 2*np.random.random((self.n_y, self.n_h)) - 1  # between -1 and 1\n",
    "        print('W1.shape={}, W2.shape={}'.format(self.W1.shape, self.W2.shape))\n",
    "        \n",
    "    def forpass(self, A0):\n",
    "        Z1 = np.dot(self.W1, A0)        # hidden layer inputs\n",
    "        A1 = self.g(Z1)                 # hidden layer outputs/activation func\n",
    "        Z2 = np.dot(self.W2, A1)        # output layer inputs\n",
    "        A2 = self.g(Z2)                 # output layer outputs/activation func\n",
    "        return Z1, A1, Z2, A2\n",
    "\n",
    "    def fit(self, X, y):\n",
    "        self.cost_ = []\n",
    "        self.m_samples = len(y)       \n",
    "        Y = joy.one_hot_encoding(y, self.n_y)     \n",
    "        # learning rate is scheduled to decrement by a step of \n",
    "        # which the inteveral from self.eta to 0.0001 eqaully \n",
    "        # divided by total number of iterations(epochs or \n",
    "        # epochs * m_samples)\n",
    "        eta_scheduled = np.linspace(self.eta, 0.0001, self.epochs)\n",
    "        \n",
    "        # for momentum\n",
    "        #self.v1 = np.zeros_like(self.W1)\n",
    "        #self.v2 = np.zeros_like(self.W2)\n",
    "        \n",
    "        for epoch in range(self.epochs):\n",
    "            if epoch % 100 == 0:\n",
    "                print('Training epoch {}/{}.'.format(epoch, self.epochs))\n",
    "\n",
    "            A0 = np.array(X, ndmin=2).T       \n",
    "            Y0 = np.array(Y, ndmin=2).T     \n",
    "\n",
    "            Z1, A1, Z2, A2 = self.forpass(A0)  \n",
    "            E2 = Y0 - A2                      \n",
    "            E1 = np.dot(self.W2.T, E2)         \n",
    "\n",
    "            dZ2 = E2 * self.g_prime(Z2)          \n",
    "            dZ1 = E1 * self.g_prime(Z1)       \n",
    "            \n",
    "            # udpate weight with momentum\n",
    "            #eta = learning_schedule[epoch]\n",
    "            #self.v2 = 0.9 * self.v2 + self.eta * np.dot(dZ2, A1.T) / m_samples\n",
    "            #self.v1 = 0.9 * self.v1 + self.eta * np.dot(dZ1, A0.T) / m_samples\n",
    "            #self.W2 += self.v2     \n",
    "            #self.W1 += self.v1 \n",
    "\n",
    "            # update weights without momentum\n",
    "            # eta = eta_scheduled[epoch]\n",
    "            self.W2 +=  self.eta * np.dot(dZ2, A1.T) / self.m_samples    \n",
    "            self.W1 +=  self.eta * np.dot(dZ1, A0.T) / self.m_samples    \n",
    "            self.cost_.append(np.sqrt(np.sum(E2 * E2)))\n",
    "        return self\n",
    "\n",
    "    def predict(self, X):\n",
    "        A0 = np.array(X, ndmin=2).T         # A0: inputs\n",
    "        Z1, A1, Z2, A2 = self.forpass(A0)   # forpass\n",
    "        return A2                                       \n",
    "\n",
    "    def g(self, x):                 # activation_function: sigmoid\n",
    "        x = np.clip(x, -500, 500)   # prevent from overflow, \n",
    "        return 1.0/(1.0+np.exp(-x)) # stackoverflow.com/questions/23128401/\n",
    "                                    # overflow-error-in-neural-networks-implementation\n",
    "    \n",
    "    def g_prime(self, x):                    # activation_function: sigmoid derivative\n",
    "        return self.g(x) * (1 - self.g(x))\n",
    "    \n",
    "    def evaluate(self, Xtest, ytest):       # fully vectorized calculation\n",
    "        m_samples = len(ytest)\n",
    "        scores = 0        \n",
    "        A2 = self.predict(Xtest)\n",
    "        yhat = np.argmax(A2, axis = 0)\n",
    "        scores += np.sum(yhat == ytest)\n",
    "        return scores/m_samples * 100\n",
    "    \n",
    "    def evaluate_onebyone(self, Xtest, ytest):\n",
    "        m_samples = len(ytest)\n",
    "        scores = 0\n",
    "        for m in range(m_samples):\n",
    "            A2 = nn.predict(Xtest[m])\n",
    "            yhat = np.argmax(A2)\n",
    "            if yhat == ytest[m]:\n",
    "                scores += 1        \n",
    "        return scores/m_samples * 100\n",
    "    "
   ]
  },
  {
   "cell_type": "code",
   "execution_count": 9,
   "metadata": {},
   "outputs": [
    {
     "name": "stdout",
     "output_type": "stream",
     "text": [
      "[1 7 9 2 3]\n",
      "W1.shape=(100, 784), W2.shape=(10, 100)\n",
      "(30, 784) (30,)\n",
      "Training epoch 0/1000.\n",
      "Training epoch 100/1000.\n",
      "Training epoch 200/1000.\n",
      "Training epoch 300/1000.\n",
      "Training epoch 400/1000.\n",
      "Training epoch 500/1000.\n",
      "Training epoch 600/1000.\n",
      "Training epoch 700/1000.\n",
      "Training epoch 800/1000.\n",
      "Training epoch 900/1000.\n",
      "MNIST classification accuracy 100.0%\n"
     ]
    },
    {
     "data": {
      "image/png": "[encoded data removed]",
      "text/plain": [
       "<Figure size 720x720 with 5 Axes>"
      ]
     },
     "metadata": {
      "needs_background": "light"
     },
     "output_type": "display_data"
    }
   ],
   "source": [
    "import joy\n",
    "%matplotlib inline\n",
    "\n",
    "# read mnist dataset\n",
    "(X, y), (Xtest, ytest) = joy.load_mnist()     \n",
    "X = X[:30]\n",
    "y = y[:30]\n",
    "selected = np.random.choice(X.shape[0], 200)\n",
    "Xtest = X[selected]\n",
    "ytest = y[selected]\n",
    "joy.show_mnist_grid(Xtest[:5].reshape(-1, 28, 28))\n",
    "print(ytest[:5])\n",
    "\n",
    "# set hyperparameters and instantiate the class object\n",
    "n_x, n_h, n_y = 784, 100, 10          \n",
    "nn = MnistBGD_LS(n_x, n_h, n_y, eta = 0.2, epochs = 1000)  \n",
    "print(X.shape, y.shape)\n",
    "# train the model\n",
    "nn.fit(X, y)       \n",
    "accuracy = nn.evaluate(X, y)      \n",
    "print('MNIST classification accuracy {}%'.format(accuracy))"
   ]
  },
  {
   "cell_type": "code",
   "execution_count": null,
   "metadata": {},
   "outputs": [],
   "source": [
    "#Xtest, ytest = joy.getXy_mnist_csv(\"mnist_test_10.csv\", display = False)\n",
    "selected = np.random.choice(X.shape[0], 100)\n",
    "Xtest = X[selected]\n",
    "ytest = y[selected]\n",
    "joy.show_mnist_grid(X[:10].reshape(-1, 28, 28))\n",
    "print(ytest[:10])\n",
    "\n",
    "accuracy = nn.evaluate(Xtest, ytest)      \n",
    "print('MNIST classification accuracy {}%'.format(accuracy))\n",
    "#mnist_trian_100, mnist_test_10.csv accuraccy 70%, eta=0.01, epoch=100\n",
    "#mnist_trian_100, mnist_test_10.csv accuraccy 60%, eta=0.1, epoch=100\n",
    "#mnist_trian_100, mnist_test_10.csv accuraccy 80%, eta=0.1, epoch=1000, learning schedule\n",
    "#mnist_trian_100, mnist_test_10.csv accuraccy 70%, eta=0.1, epoch=2000, learning schedule"
   ]
  },
  {
   "cell_type": "code",
   "execution_count": 29,
   "metadata": {},
   "outputs": [
    {
     "name": "stdout",
     "output_type": "stream",
     "text": [
      "MNIST classification accuracy 100.0%\n"
     ]
    }
   ],
   "source": [
    "selected = np.random.choice(X.shape[0], 100)\n",
    "Xtest = X[selected]\n",
    "ytest = y[selected]          \n",
    "\n",
    "accuracy = nn.evaluate(Xtest, ytest)      \n",
    "print('MNIST classification accuracy {}%'.format(accuracy))"
   ]
  },
  {
   "cell_type": "code",
   "execution_count": 30,
   "metadata": {},
   "outputs": [
    {
     "name": "stdout",
     "output_type": "stream",
     "text": [
      "W1.shape=(100, 784), W2.shape=(10, 100)\n",
      "Training epoch 1/200.\n",
      "Training epoch 101/200.\n",
      "MNIST classification accuracy 66.2%\n"
     ]
    }
   ],
   "source": [
    "# read mnist dataset\n",
    "(X, y), (Xtest, ytest) = joy.load_mnist()     \n",
    "# set hyperparameters and instantiate the class object\n",
    "n_x, n_h, n_y = 784, 100, 10          \n",
    "nn = MnistBGD_LS(n_x, n_h, n_y, eta = 0.2, epochs = 200)  \n",
    "# train the model\n",
    "nn.fit(X[:5000], y[:5000])       \n",
    "accuracy = nn.evaluate(Xtest[:1000], ytest[:1000])      \n",
    "print('MNIST classification accuracy {}%'.format(accuracy))"
   ]
  },
  {
   "cell_type": "code",
   "execution_count": 31,
   "metadata": {},
   "outputs": [
    {
     "name": "stdout",
     "output_type": "stream",
     "text": [
      "W1.shape=(100, 784), W2.shape=(10, 100)\n",
      "Training epoch 1/100.\n",
      "W1.shape=(100, 784), W2.shape=(10, 100)\n",
      "Training epoch 1/150.\n",
      "Training epoch 101/150.\n",
      "W1.shape=(100, 784), W2.shape=(10, 100)\n",
      "Training epoch 1/200.\n",
      "Training epoch 101/200.\n",
      "W1.shape=(100, 784), W2.shape=(10, 100)\n",
      "Training epoch 1/250.\n",
      "Training epoch 101/250.\n",
      "Training epoch 201/250.\n",
      "W1.shape=(100, 784), W2.shape=(10, 100)\n",
      "Training epoch 1/300.\n",
      "Training epoch 101/300.\n",
      "Training epoch 201/300.\n",
      "W1.shape=(100, 784), W2.shape=(10, 100)\n",
      "Training epoch 1/350.\n",
      "Training epoch 101/350.\n",
      "Training epoch 201/350.\n",
      "Training epoch 301/350.\n",
      "W1.shape=(100, 784), W2.shape=(10, 100)\n",
      "Training epoch 1/400.\n",
      "Training epoch 101/400.\n",
      "Training epoch 201/400.\n",
      "Training epoch 301/400.\n",
      "W1.shape=(100, 784), W2.shape=(10, 100)\n",
      "Training epoch 1/450.\n",
      "Training epoch 101/450.\n",
      "Training epoch 201/450.\n",
      "Training epoch 301/450.\n",
      "Training epoch 401/450.\n",
      "W1.shape=(100, 784), W2.shape=(10, 100)\n",
      "Training epoch 1/500.\n",
      "Training epoch 101/500.\n",
      "Training epoch 201/500.\n",
      "Training epoch 301/500.\n",
      "Training epoch 401/500.\n",
      "W1.shape=(100, 784), W2.shape=(10, 100)\n",
      "Training epoch 1/550.\n",
      "Training epoch 101/550.\n",
      "Training epoch 201/550.\n",
      "Training epoch 301/550.\n",
      "Training epoch 401/550.\n",
      "Training epoch 501/550.\n",
      "W1.shape=(100, 784), W2.shape=(10, 100)\n",
      "Training epoch 1/600.\n",
      "Training epoch 101/600.\n",
      "Training epoch 201/600.\n",
      "Training epoch 301/600.\n",
      "Training epoch 401/600.\n",
      "Training epoch 501/600.\n",
      "W1.shape=(100, 784), W2.shape=(10, 100)\n",
      "Training epoch 1/650.\n",
      "Training epoch 101/650.\n",
      "Training epoch 201/650.\n",
      "Training epoch 301/650.\n",
      "Training epoch 401/650.\n",
      "Training epoch 501/650.\n",
      "Training epoch 601/650.\n",
      "W1.shape=(100, 784), W2.shape=(10, 100)\n",
      "Training epoch 1/700.\n",
      "Training epoch 101/700.\n",
      "Training epoch 201/700.\n",
      "Training epoch 301/700.\n",
      "Training epoch 401/700.\n",
      "Training epoch 501/700.\n",
      "Training epoch 601/700.\n",
      "W1.shape=(100, 784), W2.shape=(10, 100)\n",
      "Training epoch 1/750.\n",
      "Training epoch 101/750.\n",
      "Training epoch 201/750.\n",
      "Training epoch 301/750.\n",
      "Training epoch 401/750.\n",
      "Training epoch 501/750.\n",
      "Training epoch 601/750.\n",
      "Training epoch 701/750.\n",
      "W1.shape=(100, 784), W2.shape=(10, 100)\n",
      "Training epoch 1/800.\n",
      "Training epoch 101/800.\n",
      "Training epoch 201/800.\n",
      "Training epoch 301/800.\n",
      "Training epoch 401/800.\n",
      "Training epoch 501/800.\n",
      "Training epoch 601/800.\n",
      "Training epoch 701/800.\n",
      "W1.shape=(100, 784), W2.shape=(10, 100)\n",
      "Training epoch 1/850.\n",
      "Training epoch 101/850.\n",
      "Training epoch 201/850.\n",
      "Training epoch 301/850.\n",
      "Training epoch 401/850.\n",
      "Training epoch 501/850.\n",
      "Training epoch 601/850.\n",
      "Training epoch 701/850.\n",
      "Training epoch 801/850.\n",
      "W1.shape=(100, 784), W2.shape=(10, 100)\n",
      "Training epoch 1/900.\n",
      "Training epoch 101/900.\n",
      "Training epoch 201/900.\n",
      "Training epoch 301/900.\n",
      "Training epoch 401/900.\n",
      "Training epoch 501/900.\n",
      "Training epoch 601/900.\n",
      "Training epoch 701/900.\n",
      "Training epoch 801/900.\n",
      "W1.shape=(100, 784), W2.shape=(10, 100)\n",
      "Training epoch 1/950.\n",
      "Training epoch 101/950.\n",
      "Training epoch 201/950.\n",
      "Training epoch 301/950.\n",
      "Training epoch 401/950.\n",
      "Training epoch 501/950.\n",
      "Training epoch 601/950.\n",
      "Training epoch 701/950.\n",
      "Training epoch 801/950.\n",
      "Training epoch 901/950.\n",
      "W1.shape=(100, 784), W2.shape=(10, 100)\n",
      "Training epoch 1/1000.\n",
      "Training epoch 101/1000.\n",
      "Training epoch 201/1000.\n",
      "Training epoch 301/1000.\n",
      "Training epoch 401/1000.\n",
      "Training epoch 501/1000.\n",
      "Training epoch 601/1000.\n",
      "Training epoch 701/1000.\n",
      "Training epoch 801/1000.\n",
      "Training epoch 901/1000.\n",
      "W1.shape=(100, 784), W2.shape=(10, 100)\n",
      "Training epoch 1/1050.\n",
      "Training epoch 101/1050.\n",
      "Training epoch 201/1050.\n",
      "Training epoch 301/1050.\n",
      "Training epoch 401/1050.\n",
      "Training epoch 501/1050.\n",
      "Training epoch 601/1050.\n",
      "Training epoch 701/1050.\n",
      "Training epoch 801/1050.\n",
      "Training epoch 901/1050.\n",
      "Training epoch 1001/1050.\n",
      "W1.shape=(100, 784), W2.shape=(10, 100)\n",
      "Training epoch 1/1100.\n",
      "Training epoch 101/1100.\n",
      "Training epoch 201/1100.\n",
      "Training epoch 301/1100.\n",
      "Training epoch 401/1100.\n",
      "Training epoch 501/1100.\n",
      "Training epoch 601/1100.\n",
      "Training epoch 701/1100.\n",
      "Training epoch 801/1100.\n",
      "Training epoch 901/1100.\n",
      "Training epoch 1001/1100.\n",
      "W1.shape=(100, 784), W2.shape=(10, 100)\n",
      "Training epoch 1/1150.\n",
      "Training epoch 101/1150.\n",
      "Training epoch 201/1150.\n",
      "Training epoch 301/1150.\n",
      "Training epoch 401/1150.\n",
      "Training epoch 501/1150.\n",
      "Training epoch 601/1150.\n",
      "Training epoch 701/1150.\n",
      "Training epoch 801/1150.\n",
      "Training epoch 901/1150.\n",
      "Training epoch 1001/1150.\n",
      "Training epoch 1101/1150.\n",
      "W1.shape=(100, 784), W2.shape=(10, 100)\n",
      "Training epoch 1/1200.\n",
      "Training epoch 101/1200.\n",
      "Training epoch 201/1200.\n",
      "Training epoch 301/1200.\n",
      "Training epoch 401/1200.\n",
      "Training epoch 501/1200.\n",
      "Training epoch 601/1200.\n",
      "Training epoch 701/1200.\n",
      "Training epoch 801/1200.\n",
      "Training epoch 901/1200.\n",
      "Training epoch 1001/1200.\n",
      "Training epoch 1101/1200.\n",
      "W1.shape=(100, 784), W2.shape=(10, 100)\n",
      "Training epoch 1/1250.\n",
      "Training epoch 101/1250.\n",
      "Training epoch 201/1250.\n",
      "Training epoch 301/1250.\n",
      "Training epoch 401/1250.\n",
      "Training epoch 501/1250.\n",
      "Training epoch 601/1250.\n",
      "Training epoch 701/1250.\n",
      "Training epoch 801/1250.\n",
      "Training epoch 901/1250.\n",
      "Training epoch 1001/1250.\n",
      "Training epoch 1101/1250.\n",
      "Training epoch 1201/1250.\n",
      "W1.shape=(100, 784), W2.shape=(10, 100)\n",
      "Training epoch 1/1300.\n",
      "Training epoch 101/1300.\n",
      "Training epoch 201/1300.\n",
      "Training epoch 301/1300.\n",
      "Training epoch 401/1300.\n",
      "Training epoch 501/1300.\n",
      "Training epoch 601/1300.\n",
      "Training epoch 701/1300.\n",
      "Training epoch 801/1300.\n",
      "Training epoch 901/1300.\n",
      "Training epoch 1001/1300.\n",
      "Training epoch 1101/1300.\n",
      "Training epoch 1201/1300.\n",
      "W1.shape=(100, 784), W2.shape=(10, 100)\n",
      "Training epoch 1/1350.\n",
      "Training epoch 101/1350.\n",
      "Training epoch 201/1350.\n",
      "Training epoch 301/1350.\n",
      "Training epoch 401/1350.\n",
      "Training epoch 501/1350.\n",
      "Training epoch 601/1350.\n",
      "Training epoch 701/1350.\n",
      "Training epoch 801/1350.\n",
      "Training epoch 901/1350.\n",
      "Training epoch 1001/1350.\n",
      "Training epoch 1101/1350.\n",
      "Training epoch 1201/1350.\n",
      "Training epoch 1301/1350.\n",
      "W1.shape=(100, 784), W2.shape=(10, 100)\n",
      "Training epoch 1/1400.\n",
      "Training epoch 101/1400.\n",
      "Training epoch 201/1400.\n",
      "Training epoch 301/1400.\n",
      "Training epoch 401/1400.\n",
      "Training epoch 501/1400.\n",
      "Training epoch 601/1400.\n",
      "Training epoch 701/1400.\n",
      "Training epoch 801/1400.\n",
      "Training epoch 901/1400.\n",
      "Training epoch 1001/1400.\n",
      "Training epoch 1101/1400.\n",
      "Training epoch 1201/1400.\n",
      "Training epoch 1301/1400.\n",
      "W1.shape=(100, 784), W2.shape=(10, 100)\n",
      "Training epoch 1/1450.\n",
      "Training epoch 101/1450.\n",
      "Training epoch 201/1450.\n",
      "Training epoch 301/1450.\n",
      "Training epoch 401/1450.\n",
      "Training epoch 501/1450.\n",
      "Training epoch 601/1450.\n",
      "Training epoch 701/1450.\n",
      "Training epoch 801/1450.\n",
      "Training epoch 901/1450.\n",
      "Training epoch 1001/1450.\n",
      "Training epoch 1101/1450.\n",
      "Training epoch 1201/1450.\n",
      "Training epoch 1301/1450.\n",
      "Training epoch 1401/1450.\n",
      "W1.shape=(100, 784), W2.shape=(10, 100)\n",
      "Training epoch 1/1500.\n",
      "Training epoch 101/1500.\n",
      "Training epoch 201/1500.\n",
      "Training epoch 301/1500.\n",
      "Training epoch 401/1500.\n",
      "Training epoch 501/1500.\n",
      "Training epoch 601/1500.\n",
      "Training epoch 701/1500.\n",
      "Training epoch 801/1500.\n",
      "Training epoch 901/1500.\n",
      "Training epoch 1001/1500.\n",
      "Training epoch 1101/1500.\n",
      "Training epoch 1201/1500.\n",
      "Training epoch 1301/1500.\n",
      "Training epoch 1401/1500.\n",
      "W1.shape=(100, 784), W2.shape=(10, 100)\n",
      "Training epoch 1/1550.\n",
      "Training epoch 101/1550.\n",
      "Training epoch 201/1550.\n",
      "Training epoch 301/1550.\n",
      "Training epoch 401/1550.\n",
      "Training epoch 501/1550.\n",
      "Training epoch 601/1550.\n",
      "Training epoch 701/1550.\n",
      "Training epoch 801/1550.\n",
      "Training epoch 901/1550.\n",
      "Training epoch 1001/1550.\n",
      "Training epoch 1101/1550.\n",
      "Training epoch 1201/1550.\n",
      "Training epoch 1301/1550.\n",
      "Training epoch 1401/1550.\n",
      "Training epoch 1501/1550.\n",
      "W1.shape=(100, 784), W2.shape=(10, 100)\n",
      "Training epoch 1/1600.\n",
      "Training epoch 101/1600.\n",
      "Training epoch 201/1600.\n",
      "Training epoch 301/1600.\n",
      "Training epoch 401/1600.\n",
      "Training epoch 501/1600.\n",
      "Training epoch 601/1600.\n",
      "Training epoch 701/1600.\n",
      "Training epoch 801/1600.\n",
      "Training epoch 901/1600.\n",
      "Training epoch 1001/1600.\n",
      "Training epoch 1101/1600.\n",
      "Training epoch 1201/1600.\n",
      "Training epoch 1301/1600.\n",
      "Training epoch 1401/1600.\n",
      "Training epoch 1501/1600.\n",
      "W1.shape=(100, 784), W2.shape=(10, 100)\n",
      "Training epoch 1/1650.\n",
      "Training epoch 101/1650.\n",
      "Training epoch 201/1650.\n",
      "Training epoch 301/1650.\n",
      "Training epoch 401/1650.\n",
      "Training epoch 501/1650.\n",
      "Training epoch 601/1650.\n",
      "Training epoch 701/1650.\n",
      "Training epoch 801/1650.\n",
      "Training epoch 901/1650.\n",
      "Training epoch 1001/1650.\n"
     ]
    },
    {
     "name": "stdout",
     "output_type": "stream",
     "text": [
      "Training epoch 1101/1650.\n",
      "Training epoch 1201/1650.\n",
      "Training epoch 1301/1650.\n",
      "Training epoch 1401/1650.\n",
      "Training epoch 1501/1650.\n",
      "Training epoch 1601/1650.\n",
      "W1.shape=(100, 784), W2.shape=(10, 100)\n",
      "Training epoch 1/1700.\n",
      "Training epoch 101/1700.\n",
      "Training epoch 201/1700.\n",
      "Training epoch 301/1700.\n",
      "Training epoch 401/1700.\n",
      "Training epoch 501/1700.\n",
      "Training epoch 601/1700.\n",
      "Training epoch 701/1700.\n",
      "Training epoch 801/1700.\n",
      "Training epoch 901/1700.\n",
      "Training epoch 1001/1700.\n",
      "Training epoch 1101/1700.\n",
      "Training epoch 1201/1700.\n",
      "Training epoch 1301/1700.\n",
      "Training epoch 1401/1700.\n",
      "Training epoch 1501/1700.\n",
      "Training epoch 1601/1700.\n",
      "W1.shape=(100, 784), W2.shape=(10, 100)\n",
      "Training epoch 1/1750.\n",
      "Training epoch 101/1750.\n",
      "Training epoch 201/1750.\n",
      "Training epoch 301/1750.\n",
      "Training epoch 401/1750.\n",
      "Training epoch 501/1750.\n",
      "Training epoch 601/1750.\n",
      "Training epoch 701/1750.\n",
      "Training epoch 801/1750.\n",
      "Training epoch 901/1750.\n",
      "Training epoch 1001/1750.\n",
      "Training epoch 1101/1750.\n",
      "Training epoch 1201/1750.\n",
      "Training epoch 1301/1750.\n",
      "Training epoch 1401/1750.\n",
      "Training epoch 1501/1750.\n",
      "Training epoch 1601/1750.\n",
      "Training epoch 1701/1750.\n",
      "W1.shape=(100, 784), W2.shape=(10, 100)\n",
      "Training epoch 1/1800.\n",
      "Training epoch 101/1800.\n",
      "Training epoch 201/1800.\n",
      "Training epoch 301/1800.\n",
      "Training epoch 401/1800.\n",
      "Training epoch 501/1800.\n",
      "Training epoch 601/1800.\n",
      "Training epoch 701/1800.\n",
      "Training epoch 801/1800.\n",
      "Training epoch 901/1800.\n",
      "Training epoch 1001/1800.\n",
      "Training epoch 1101/1800.\n",
      "Training epoch 1201/1800.\n",
      "Training epoch 1301/1800.\n",
      "Training epoch 1401/1800.\n",
      "Training epoch 1501/1800.\n",
      "Training epoch 1601/1800.\n",
      "Training epoch 1701/1800.\n",
      "W1.shape=(100, 784), W2.shape=(10, 100)\n",
      "Training epoch 1/1850.\n",
      "Training epoch 101/1850.\n",
      "Training epoch 201/1850.\n",
      "Training epoch 301/1850.\n",
      "Training epoch 401/1850.\n",
      "Training epoch 501/1850.\n",
      "Training epoch 601/1850.\n",
      "Training epoch 701/1850.\n",
      "Training epoch 801/1850.\n",
      "Training epoch 901/1850.\n",
      "Training epoch 1001/1850.\n",
      "Training epoch 1101/1850.\n",
      "Training epoch 1201/1850.\n",
      "Training epoch 1301/1850.\n",
      "Training epoch 1401/1850.\n",
      "Training epoch 1501/1850.\n",
      "Training epoch 1601/1850.\n",
      "Training epoch 1701/1850.\n",
      "Training epoch 1801/1850.\n",
      "W1.shape=(100, 784), W2.shape=(10, 100)\n",
      "Training epoch 1/1900.\n",
      "Training epoch 101/1900.\n",
      "Training epoch 201/1900.\n",
      "Training epoch 301/1900.\n",
      "Training epoch 401/1900.\n",
      "Training epoch 501/1900.\n",
      "Training epoch 601/1900.\n",
      "Training epoch 701/1900.\n",
      "Training epoch 801/1900.\n",
      "Training epoch 901/1900.\n",
      "Training epoch 1001/1900.\n",
      "Training epoch 1101/1900.\n",
      "Training epoch 1201/1900.\n",
      "Training epoch 1301/1900.\n",
      "Training epoch 1401/1900.\n",
      "Training epoch 1501/1900.\n",
      "Training epoch 1601/1900.\n",
      "Training epoch 1701/1900.\n",
      "Training epoch 1801/1900.\n",
      "W1.shape=(100, 784), W2.shape=(10, 100)\n",
      "Training epoch 1/1950.\n",
      "Training epoch 101/1950.\n",
      "Training epoch 201/1950.\n",
      "Training epoch 301/1950.\n",
      "Training epoch 401/1950.\n",
      "Training epoch 501/1950.\n",
      "Training epoch 601/1950.\n",
      "Training epoch 701/1950.\n",
      "Training epoch 801/1950.\n",
      "Training epoch 901/1950.\n",
      "Training epoch 1001/1950.\n",
      "Training epoch 1101/1950.\n",
      "Training epoch 1201/1950.\n",
      "Training epoch 1301/1950.\n",
      "Training epoch 1401/1950.\n",
      "Training epoch 1501/1950.\n",
      "Training epoch 1601/1950.\n",
      "Training epoch 1701/1950.\n",
      "Training epoch 1801/1950.\n",
      "Training epoch 1901/1950.\n"
     ]
    }
   ],
   "source": [
    "import joy\n",
    "%matplotlib inline\n",
    "(X, y), (Xtest, ytest) = joy.load_mnist() \n",
    "epoch_list = [i for i in np.arange(100, 1500, 200)]\n",
    "self_accuracy = []\n",
    "test_accuracy = []\n",
    "for i, e in  enumerate(epoch_list):\n",
    "    nn = MnistBGD_LS(784, 150, 10, eta=0.1, epochs = e)  \n",
    "    nn.fit(X[:5000], y[:5000])  \n",
    "    self_accuracy.append(nn.evaluate(X[:5000], y[:5000]))  \n",
    "    test_accuracy.append(nn.evaluate(Xtest[:1000], ytest[:1000]))"
   ]
  },
  {
   "cell_type": "code",
   "execution_count": 34,
   "metadata": {},
   "outputs": [
    {
     "data": {
      "image/png": "[encoded data removed]",
      "text/plain": [
       "<Figure size 432x288 with 1 Axes>"
      ]
     },
     "metadata": {
      "needs_background": "light"
     },
     "output_type": "display_data"
    }
   ],
   "source": [
    "%matplotlib inline\n",
    "import matplotlib.pyplot as plt \n",
    "plt.plot(epoch_list, self_accuracy, label='self')\n",
    "plt.plot(epoch_list, test_accuracy, label='test')\n",
    "plt.xlabel('Epochs')\n",
    "plt.ylabel('Accuracy')\n",
    "plt.title('Early Stopping:\"Beautiful free lunch\"')\n",
    "plt.legend(loc='best')\n",
    "plt.show()"
   ]
  },
  {
   "cell_type": "code",
   "execution_count": 35,
   "metadata": {},
   "outputs": [
    {
     "name": "stdout",
     "output_type": "stream",
     "text": [
      "last test acc= 81.6\n",
      "MNIST classification accuracy 85.5%\n"
     ]
    }
   ],
   "source": [
    "print('last test acc=', test_accuracy[-1])\n",
    "accuracy = nn.evaluate(Xtest[:200], ytest[:200])      \n",
    "print('MNIST classification accuracy {}%'.format(accuracy))"
   ]
  },
  {
   "cell_type": "markdown",
   "metadata": {},
   "source": [
    "## 1.2 신속한 테스트 (훈련 자료 자체를 테스트함)"
   ]
  },
  {
   "cell_type": "code",
   "execution_count": 36,
   "metadata": {},
   "outputs": [
    {
     "name": "stdout",
     "output_type": "stream",
     "text": [
      "[1 7 9 2 3]\n",
      "W1.shape=(100, 784), W2.shape=(10, 100)\n",
      "Training epoch 1/1000.\n",
      "Training epoch 101/1000.\n",
      "Training epoch 201/1000.\n",
      "Training epoch 301/1000.\n",
      "Training epoch 401/1000.\n",
      "Training epoch 501/1000.\n",
      "Training epoch 601/1000.\n",
      "Training epoch 701/1000.\n",
      "Training epoch 801/1000.\n",
      "Training epoch 901/1000.\n",
      "MNIST classification accuracy 100.0%\n"
     ]
    },
    {
     "data": {
      "image/png": "[encoded data removed]",
      "text/plain": [
       "<Figure size 720x720 with 5 Axes>"
      ]
     },
     "metadata": {
      "needs_background": "light"
     },
     "output_type": "display_data"
    }
   ],
   "source": [
    "import joy\n",
    "%matplotlib inline\n",
    "\n",
    "# read mnist dataset\n",
    "(X, y), (Xtest, ytest) = joy.load_mnist()     \n",
    "#X, y = joy.read_mnist_csv(\"mnist_train_100.csv\", display = False)\n",
    "\n",
    "X = X[:30]\n",
    "y = y[:30]\n",
    "selected = np.random.choice(X.shape[0], 200)\n",
    "Xtest = X[selected]\n",
    "ytest = y[selected]\n",
    "joy.show_mnist_grid(Xtest[:5].reshape(-1, 28, 28))\n",
    "print(ytest[:5])\n",
    "\n",
    "# set hyperparameters and instantiate the class object\n",
    "n_x, n_h, n_y = 784, 100, 10          \n",
    "nn = MnistBGD_LS(n_x, n_h, n_y, eta = 0.1, epochs = 1000)  \n",
    "\n",
    "# train the model\n",
    "nn.fit(X, y)       \n",
    "accuracy = nn.evaluate(X, y)      \n",
    "print('MNIST classification accuracy {}%'.format(accuracy))"
   ]
  },
  {
   "cell_type": "code",
   "execution_count": 20,
   "metadata": {},
   "outputs": [
    {
     "name": "stdout",
     "output_type": "stream",
     "text": [
      "W1.shape=(100, 784), W2.shape=(10, 100)\n",
      "Training epoch 1/200.\n",
      "Training epoch 101/200.\n",
      "MNIST classification accuracy 66.2%\n"
     ]
    }
   ],
   "source": [
    "# read mnist dataset\n",
    "(X, y), (Xtest, ytest) = joy.load_mnist()     \n",
    "# set hyperparameters and instantiate the class object\n",
    "n_x, n_h, n_y = 784, 100, 10          \n",
    "nn = MnistBGD_LS(n_x, n_h, n_y, eta = 0.2, epochs = 200)  \n",
    "# train the model\n",
    "nn.fit(X[:5000], y[:5000])       \n",
    "accuracy = nn.evaluate(Xtest[:1000], ytest[:1000])      \n",
    "print('MNIST classification accuracy {}%'.format(accuracy))"
   ]
  },
  {
   "cell_type": "code",
   "execution_count": 22,
   "metadata": {},
   "outputs": [
    {
     "name": "stdout",
     "output_type": "stream",
     "text": [
      "W1.shape=(100, 784), W2.shape=(10, 100)\n",
      "Training epoch 1/100.\n",
      "MNIST classification accuracy 40.129999999999995%\n"
     ]
    }
   ],
   "source": [
    "import joy\n",
    "%matplotlib inline\n",
    "\n",
    "# read mnist dataset\n",
    "(X, y), (Xtest, ytest) = joy.load_mnist()     \n",
    "\n",
    "# set hyperparameters and instantiate the class object\n",
    "n_x, n_h, n_y = 784, 100, 10          \n",
    "nn = MnistBGD_LS(n_x, n_h, n_y, eta = 0.1, epochs = 100)  \n",
    "\n",
    "# train the model\n",
    "nn.fit(X, y)       \n",
    "accuracy = nn.evaluate(X, y)      \n",
    "print('MNIST classification accuracy {}%'.format(accuracy))"
   ]
  },
  {
   "cell_type": "code",
   "execution_count": 23,
   "metadata": {
    "scrolled": true
   },
   "outputs": [
    {
     "name": "stdout",
     "output_type": "stream",
     "text": [
      "[8 0 2 2 0 5 3 4 0 1]\n",
      "MNIST classification accuracy 37.0%\n"
     ]
    },
    {
     "data": {
      "image/png": "[encoded data removed]",
      "text/plain": [
       "<Figure size 720x720 with 10 Axes>"
      ]
     },
     "metadata": {
      "needs_background": "light"
     },
     "output_type": "display_data"
    }
   ],
   "source": [
    "#Xtest, ytest = joy.getXy_mnist_csv(\"mnist_test_10.csv\", display = False)\n",
    "\n",
    "selected = np.random.choice(X.shape[0], 100)\n",
    "Xtest = X[selected]\n",
    "ytest = y[selected]\n",
    "joy.show_mnist_grid(X[:10].reshape(-1, 28, 28))\n",
    "print(ytest[:10])\n",
    "\n",
    "accuracy = nn.evaluate(Xtest, ytest)      \n",
    "print('MNIST classification accuracy {}%'.format(accuracy))\n",
    "#mnist_trian_100, mnist_test_10.csv accuraccy 70%, eta=0.01, epoch=100\n",
    "#mnist_trian_100, mnist_test_10.csv accuraccy 60%, eta=0.1, epoch=100\n",
    "#mnist_trian_100, mnist_test_10.csv accuraccy 80%, eta=0.1, epoch=1000, learning schedule\n",
    "#mnist_trian_100, mnist_test_10.csv accuraccy 70%, eta=0.1, epoch=2000, learning schedule"
   ]
  },
  {
   "cell_type": "code",
   "execution_count": 9,
   "metadata": {},
   "outputs": [
    {
     "name": "stdout",
     "output_type": "stream",
     "text": [
      "MNIST classification accuracy 25.0%\n"
     ]
    }
   ],
   "source": [
    "selected = np.random.choice(X.shape[0], 100)\n",
    "Xtest = X[selected]\n",
    "ytest = y[selected]          \n",
    "\n",
    "accuracy = nn.evaluate(Xtest, ytest)      \n",
    "print('MNIST classification accuracy {}%'.format(accuracy))"
   ]
  },
  {
   "cell_type": "markdown",
   "metadata": {},
   "source": [
    "### 1.3 오차(self.cost_)의 시각화 \n",
    "\n",
    "신경망을 학습시키면서 발생하는 오차(손실)를 MnistMiniBatch객체의 속성 `cost_`에 저장되어 있습니다. 이를 시각화해서 신경망이 어떻게 학습을 하였는지, 손실을 최소화하는 방향을 수렴하였는지 분석할 수 있습니다.  다음 셀의 코드를 실행해 봅시다.  "
   ]
  },
  {
   "cell_type": "code",
   "execution_count": 14,
   "metadata": {},
   "outputs": [
    {
     "data": {
      "image/png": "[encoded data removed]",
      "text/plain": [
       "<Figure size 432x288 with 1 Axes>"
      ]
     },
     "metadata": {
      "needs_background": "light"
     },
     "output_type": "display_data"
    }
   ],
   "source": [
    "%matplotlib inline\n",
    "import matplotlib.pyplot as plt \n",
    "\n",
    "plt.plot(range(len(nn.cost_)), nn.cost_)\n",
    "plt.xlabel('Epochs')\n",
    "plt.ylabel('Error Squared Sum')\n",
    "plt.show()"
   ]
  },
  {
   "cell_type": "markdown",
   "metadata": {},
   "source": [
    "# 참고자료/테스팅을 위한 코드"
   ]
  },
  {
   "cell_type": "code",
   "execution_count": 1,
   "metadata": {},
   "outputs": [],
   "source": [
    "#%%writefile code/MnistBGD.py\n",
    "#%load code/MnistBGD.py\n",
    "# 이제 기본적인 경사 하강법에 대한 복습을 마쳤으니 \n",
    "# MNIST 데이터셋을 직접 학습시켜보도록 하겠습니다. \n",
    "class MnistBGD(object):\n",
    "    \"\"\" Batch Gradient Descent  \"\"\"\n",
    "    def __init__(self, n_x, n_h, n_y, eta = 0.1, epochs = 100, random_seed=1):\n",
    "        self.n_x = n_x\n",
    "        self.n_h = n_h\n",
    "        self.n_y = n_y\n",
    "        self.eta = eta\n",
    "        self.epochs = epochs\n",
    "        np.random.seed(random_seed)\n",
    "        self.W1 = 2*np.random.random((self.n_h, self.n_x)) - 1  # between -1 and 1\n",
    "        self.W2 = 2*np.random.random((self.n_y, self.n_h)) - 1  # between -1 and 1\n",
    "        \n",
    "    def forpass(self, A0):\n",
    "        Z1 = np.dot(self.W1, A0)    # hidden layer inputs\n",
    "        A1 = self.g(Z1)             # hidden layer outputs/activation func\n",
    "        Z2 = np.dot(self.W2, A1)    # output layer inputs\n",
    "        A2 = self.g(Z2)             # output layer outputs/activation func\n",
    "        return Z1, A1, Z2, A2\n",
    "\n",
    "    def fit(self, X, y):\n",
    "        self.m_samples = len(y)       \n",
    "        Y = joy.one_hot_encoding(y, self.n_y)  \n",
    "        \n",
    "        self.cost_ = []\n",
    "        for epoch in range(self.epochs):\n",
    "            A0 = np.array(X, ndmin=2).T     \n",
    "            Y0 = np.array(Y, ndmin=2).T      \n",
    "\n",
    "            Z1 = np.dot(self.W1, A0)          \n",
    "            A1 = self.g(Z1)                  \n",
    "            Z2 = np.dot(self.W2, A1)       \n",
    "            A2 = self.g(Z2)                 \n",
    "\n",
    "            E2 = Y0 - A2                   \n",
    "            E1 = np.dot(self.W2.T, E2)          \n",
    "\n",
    "            dZ2 = E2 * self.g_prime(Z2)       \n",
    "            dZ1 = E1 * self.g_prime(Z1)  \n",
    "            \n",
    "            dW2 = self.eta * np.dot(dZ2, A1.T)\n",
    "            dW1 = self.eta * np.dot(dZ1, A0.T)\n",
    "\n",
    "            self.W2 += dW2 / self.m_samples   \n",
    "            self.W1 += dW1 / self.m_samples    \n",
    "\n",
    "            self.cost_.append(np.sqrt(np.sum(E2 * E2)))\n",
    "        return self\n",
    "\n",
    "    def predict(self, X):\n",
    "        A0 = np.array(X, ndmin=2).T         # A0: inputs\n",
    "        Z1, A1, Z2, A2 = self.forpass(A0)   # forpass\n",
    "        return A2                                       \n",
    "\n",
    "    def g(self, x):                 # activation_function: sigmoid\n",
    "        x = np.clip(x, -500, 500)   # prevent from overflow, \n",
    "        return 1.0/(1.0+np.exp(-x)) # stackoverflow.com/questions/23128401/\n",
    "                                    # overflow-error-in-neural-networks-implementation\n",
    "    \n",
    "    def g_prime(self, x):           # activation_function: sigmoid derivative\n",
    "        return self.g(x) * (1 - self.g(x))\n",
    "    \n",
    "    def evaluate(self, Xtest, ytest):      \n",
    "        m_samples = len(ytest)\n",
    "        scores = 0        \n",
    "        A2 = self.predict(Xtest)\n",
    "        print(A2.shape)\n",
    "        yhat = np.argmax(A2, axis = 0)\n",
    "        scores += np.sum(yhat == ytest)\n",
    "        return scores/m_samples * 100\n",
    "    \n",
    "    def evaluate_onebyone(self, Xtest, ytest):\n",
    "        m_samples = len(ytest)\n",
    "        scores = 0\n",
    "        for m in range(m_samples):\n",
    "            A2 = nn.predict(Xtest[m])\n",
    "            yhat = np.argmax(A2)\n",
    "            if yhat == ytest[m]:\n",
    "                scores += 1        \n",
    "        return scores/m_samples * 100\n",
    "    "
   ]
  },
  {
   "cell_type": "code",
   "execution_count": 19,
   "metadata": {},
   "outputs": [
    {
     "name": "stdout",
     "output_type": "stream",
     "text": [
      "epoch:2000, Accuracy self:96.5, test:80.0%\n",
      "epoch:2250, Accuracy self:97.1, test:80.5%\n",
      "epoch:2500, Accuracy self:97.6, test:82.0%\n",
      "epoch:2750, Accuracy self:97.9, test:82.0%\n",
      "epoch:3000, Accuracy self:98.5, test:82.5%\n",
      "epoch:3250, Accuracy self:98.9, test:83.0%\n",
      "epoch:3500, Accuracy self:99.0, test:83.0%\n",
      "epoch:3750, Accuracy self:99.1, test:83.0%\n",
      "epoch:4000, Accuracy self:99.2, test:83.5%\n",
      "epoch:4250, Accuracy self:99.3, test:83.5%\n",
      "epoch:4500, Accuracy self:99.4, test:83.5%\n",
      "epoch:4750, Accuracy self:99.6, test:84.5%\n",
      "epoch:5000, Accuracy self:99.7, test:84.5%\n"
     ]
    }
   ],
   "source": [
    "(X, y), (Xtest, ytest) = joy.load_mnist()     \n",
    "X, y = X[:1000], y[:1000]\n",
    "Xtest, ytest = Xtest[:200], ytest[:200]  \n",
    "epoch_list = np.arange(2000, 5001, 250)\n",
    "for epoch in epoch_list:\n",
    "    nn = MnistBGD(784, 100, 10, eta = 0.1, epochs = epoch).fit(X, y)   \n",
    "    self_accuracy = nn.evaluate(X, y)  \n",
    "    test_accuracy = nn.evaluate(Xtest, ytest)      \n",
    "    print('epoch:{}, Accuracy self:{}, test:{}%'.\n",
    "          format(epoch, np.round(self_accuracy, 2), test_accuracy))"
   ]
  },
  {
   "cell_type": "code",
   "execution_count": 11,
   "metadata": {},
   "outputs": [
    {
     "data": {
      "image/png": "[encoded data removed]",
      "text/plain": [
       "<Figure size 432x288 with 1 Axes>"
      ]
     },
     "metadata": {},
     "output_type": "display_data"
    }
   ],
   "source": [
    "%matplotlib inline\n",
    "import matplotlib.pyplot as plt \n",
    "\n",
    "plt.plot(range(len(nn.cost_)), nn.cost_)\n",
    "plt.xlabel('Epochs')\n",
    "plt.ylabel('Sum of Squared Errors')\n",
    "plt.title('MNIST BGD')\n",
    "plt.show()"
   ]
  },
  {
   "cell_type": "code",
   "execution_count": null,
   "metadata": {},
   "outputs": [],
   "source": [
    "import joy\n",
    "%matplotlib inline\n",
    "\n",
    "(X, y), (Xtest, ytest) = joy.load_mnist()\n",
    "print(Xtest.shape)\n",
    "nn = MnistBGD_LS(784, 100, 10, eta = 0.1, epochs = 200)  \n",
    "nn.fit(X, y)       \n",
    "self_accuracy = nn.evaluate(X, y)  \n",
    "test_accuracy = nn.evaluate(Xtest, ytest)      \n",
    "print('epoch:{}, Accuracy self:{}, test:{}%'.\n",
    "      format(epoch, np.round(self_accuracy, 2), test_accuracy))"
   ]
  },
  {
   "cell_type": "code",
   "execution_count": null,
   "metadata": {},
   "outputs": [],
   "source": [
    "(X, y), (Xtest, ytest) = joy.load_mnist()\n",
    "nn = MnistBGD(784, 100, 10, eta = 0.1, epochs = 1000)\n",
    "nn.fit(X, y)\n",
    "accuracy = nn.evaluate(Xtest, ytest)"
   ]
  },
  {
   "cell_type": "markdown",
   "metadata": {},
   "source": [
    "----------\n",
    "_For God so loved the world that he gave his one and only Son, that whoever believes in him shall not perish but have eternal life. John3:16_"
   ]
  }
 ],
 "metadata": {
  "kernelspec": {
   "display_name": "Python 3",
   "language": "python",
   "name": "python3"
  },
  "language_info": {
   "codemirror_mode": {
    "name": "ipython",
    "version": 3
   },
   "file_extension": ".py",
   "mimetype": "text/x-python",
   "name": "python",
   "nbconvert_exporter": "python",
   "pygments_lexer": "ipython3",
   "version": "3.7.3"
  }
 },
 "nbformat": 4,
 "nbformat_minor": 2
}
